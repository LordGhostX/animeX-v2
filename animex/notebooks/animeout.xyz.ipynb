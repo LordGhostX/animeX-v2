{
 "cells": [
  {
   "cell_type": "code",
   "execution_count": 1,
   "metadata": {},
   "outputs": [],
   "source": [
    "import requests\n",
    "import wget\n",
    "from bs4 import BeautifulSoup"
   ]
  },
  {
   "cell_type": "code",
   "execution_count": 2,
   "metadata": {},
   "outputs": [],
   "source": [
    "def get_search_result(search_item):\n",
    "    search_url = \"https://www.animeout.xyz/\"\n",
    "    params = {\n",
    "        \"s\": search_item\n",
    "    }\n",
    "    r = requests.get(search_url, params=params)\n",
    "    search_result_html = BeautifulSoup(r.text)\n",
    "    \n",
    "    search_result = []\n",
    "    for i in search_result_html.findAll(\"h3\", {\"class\": \"post-title\"}):\n",
    "        search_result.append({\n",
    "            \"name\": i.text,\n",
    "            \"url\": i.find(\"a\")[\"href\"]\n",
    "        })\n",
    "    return search_result\n",
    "# get_search_result(\"demon slayer\")"
   ]
  },
  {
   "cell_type": "code",
   "execution_count": 3,
   "metadata": {},
   "outputs": [],
   "source": [
    "def get_anime_episodes(anime_url):\n",
    "    r = requests.get(anime_url)\n",
    "    anime_result = BeautifulSoup(r.text)\n",
    "    anime_section = anime_result.find(\"p\", {\"style\": \"text-align: center;\"})\n",
    "    \n",
    "    episodes = []\n",
    "    for i in anime_section.findAll(\"a\"):\n",
    "        if i[\"href\"] != \"\":\n",
    "            episodes.append(i[\"href\"])\n",
    "    return episodes\n",
    "# get_anime_episodes(\"https://www.animeout.xyz/kimetsu-no-yaiba-demon-slayer/\")"
   ]
  },
  {
   "cell_type": "code",
   "execution_count": 4,
   "metadata": {},
   "outputs": [],
   "source": [
    "def get_download_url(anime_url):\n",
    "    r = requests.get(anime_url)\n",
    "    pre_download_page = BeautifulSoup(r.text)\n",
    "    pre_download_url = pre_download_page.find(\"a\", {\"class\": \"btn\"})[\"href\"]\n",
    "    \n",
    "    r = requests.get(pre_download_url)\n",
    "    download_page = BeautifulSoup(r.text)\n",
    "    download_url = download_page.find(\"script\", {\"src\": None}).text.split('\"')[1]\n",
    "    return download_url\n",
    "# get_download_url(\"http://chunchunmaru.animeout.com/series/Ongoing/Kimetsu no Yaiba/[AnimeOut] Kimetsu no Yaiba - 26 [720pp][HorribleSubs][RapidBot].mkv\")"
   ]
  },
  {
   "cell_type": "code",
   "execution_count": null,
   "metadata": {},
   "outputs": [],
   "source": []
  }
 ],
 "metadata": {
  "kernelspec": {
   "display_name": "Python 3",
   "language": "python",
   "name": "python3"
  },
  "language_info": {
   "codemirror_mode": {
    "name": "ipython",
    "version": 3
   },
   "file_extension": ".py",
   "mimetype": "text/x-python",
   "name": "python",
   "nbconvert_exporter": "python",
   "pygments_lexer": "ipython3",
   "version": "3.7.3"
  }
 },
 "nbformat": 4,
 "nbformat_minor": 4
}
